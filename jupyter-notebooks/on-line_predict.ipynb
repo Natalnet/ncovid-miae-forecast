{
 "cells": [
  {
   "cell_type": "markdown",
   "metadata": {},
   "source": [
    "# On-line predicting\n",
    "\n",
    "\n",
    "This script shows how to do an on-line predict using our modules."
   ]
  },
  {
   "cell_type": "markdown",
   "metadata": {},
   "source": [
    "# Run routes.py\n",
    "\n",
    "The ```routes.py``` file creates a flask local server in a choosed port to alow a browser (or antoher app) request. The routes.py file is located in the /src path.\n",
    "\n",
    "To run the file, you will need a python (or python3) compile and run the following commands in you terminal.\n",
    "```\n",
    "$ cd src\n",
    "$ python routes.py\n",
    "```\n",
    "Or you can run the cell below:"
   ]
  },
  {
   "cell_type": "code",
   "execution_count": 1,
   "metadata": {},
   "outputs": [
    {
     "name": "stdout",
     "output_type": "stream",
     "text": [
      " * Serving Flask app 'routes' (lazy loading)\n",
      " * Environment: production\n",
      "\u001b[31m   WARNING: This is a development server. Do not use it in a production deployment.\u001b[0m\n",
      "\u001b[2m   Use a production WSGI server instead.\u001b[0m\n",
      " * Debug mode: on\n",
      " * Running on all addresses (0.0.0.0)\n",
      "   WARNING: This is a development server. Do not use it in a production deployment.\n",
      " * Running on http://127.0.0.1:5000\n",
      " * Running on http://192.168.0.76:5000 (Press CTRL+C to quit)\n",
      " * Restarting with stat\n",
      " * Debugger is active!\n",
      " * Debugger PIN: 110-108-868\n",
      "127.0.0.1 - - [24/Jun/2022 16:10:49] \"\u001b[35m\u001b[1mPOST /api/v1/baseline/model_type/naive/train/repo/p971074907/path/brl:rn/feature/date:newDeaths/begin/2020-05-01/end/2022-02-03/ HTTP/1.1\u001b[0m\" 500 -\n",
      "Traceback (most recent call last):\n",
      "  File \"/home/emerson/.local/lib/python3.8/site-packages/flask/app.py\", line 2095, in __call__\n",
      "    return self.wsgi_app(environ, start_response)\n",
      "  File \"/home/emerson/.local/lib/python3.8/site-packages/flask/app.py\", line 2080, in wsgi_app\n",
      "    response = self.handle_exception(e)\n",
      "  File \"/home/emerson/.local/lib/python3.8/site-packages/flask/app.py\", line 2077, in wsgi_app\n",
      "    response = self.full_dispatch_request()\n",
      "  File \"/home/emerson/.local/lib/python3.8/site-packages/flask/app.py\", line 1525, in full_dispatch_request\n",
      "    rv = self.handle_user_exception(e)\n",
      "  File \"/home/emerson/.local/lib/python3.8/site-packages/flask/app.py\", line 1523, in full_dispatch_request\n",
      "    rv = self.dispatch_request()\n",
      "  File \"/home/emerson/.local/lib/python3.8/site-packages/flask/app.py\", line 1509, in dispatch_request\n",
      "    return self.ensure_sync(self.view_functions[rule.endpoint])(**req.view_args)\n",
      "  File \"/home/emerson/Documents/Doutorado/Semestre 4/N-Covid Beckend/ncovid-baseline-forecast/src/routes.py\", line 28, in train_baseline\n",
      "    gd = evaluator.grid_search_from_configures(save_file=False)\n",
      "AttributeError: 'Evaluator' object has no attribute 'grid_search_from_configures'\n",
      " * Detected change in '/home/emerson/Documents/Doutorado/Semestre 4/N-Covid Beckend/ncovid-baseline-forecast/src/routes.py', reloading\n",
      " * Restarting with stat\n",
      " * Debugger is active!\n",
      " * Debugger PIN: 362-454-265\n",
      "AAUUUUUu\n",
      "127.0.0.1 - - [24/Jun/2022 16:11:45] \"POST /api/v1/baseline/model_type/naive/train/repo/p971074907/path/brl:rn/feature/date:newDeaths/begin/2020-05-01/end/2022-02-03/ HTTP/1.1\" 200 -\n",
      "127.0.0.1 - - [24/Jun/2022 16:12:00] \"POST /api/v1/baseline/predict/model-instance/naive/begin/2020-06-01/end/2020-07-09/ HTTP/1.1\" 200 -\n",
      "^C\n"
     ]
    }
   ],
   "source": [
    "! python \"../src/routes.py\""
   ]
  }
 ],
 "metadata": {
  "kernelspec": {
   "display_name": "Python 3.8.11 ('ncovid-backend')",
   "language": "python",
   "name": "python3"
  },
  "language_info": {
   "name": "python",
   "version": "3.8.11"
  },
  "orig_nbformat": 4,
  "vscode": {
   "interpreter": {
    "hash": "b48a8372de07dcfb7270582fe52a873b16bfa1fa9f9ee7b27a1873baaed48200"
   }
  }
 },
 "nbformat": 4,
 "nbformat_minor": 2
}
