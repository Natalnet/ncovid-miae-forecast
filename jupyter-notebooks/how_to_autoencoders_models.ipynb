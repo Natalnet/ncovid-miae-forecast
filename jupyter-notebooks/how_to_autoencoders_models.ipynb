{
 "cells": [
  {
   "cell_type": "markdown",
   "metadata": {},
   "source": [
    "# Tutorial\n",
    "\n",
    "This is a simple tutorial in how to use the autoencoder family models with our implementations."
   ]
  },
  {
   "cell_type": "markdown",
   "metadata": {},
   "source": [
    "# Get Data\n",
    "\n",
    "To get COVID-19 time-series data first go to the /src path and import the ```configures_manner``` and ```data_preparation```  modules."
   ]
  },
  {
   "cell_type": "code",
   "execution_count": 1,
   "metadata": {},
   "outputs": [],
   "source": [
    "import sys\n",
    "sys.path.append(\"../src\")\n",
    "\n",
    "import configures_manner\n",
    "import data_preparation"
   ]
  },
  {
   "cell_type": "markdown",
   "metadata": {},
   "source": [
    "Then, define the data params."
   ]
  },
  {
   "cell_type": "code",
   "execution_count": 2,
   "metadata": {},
   "outputs": [],
   "source": [
    "repo = \"p971074907\"\n",
    "path = \"brl:rn\"\n",
    "inputFeatures = \"date:newDeaths\"\n",
    "inputWindowSize = \"7\"\n",
    "begin = \"2020-03-13\"\n",
    "end = \"2020-07-15\""
   ]
  },
  {
   "cell_type": "markdown",
   "metadata": {},
   "source": [
    "Now, initiate a data preparation instance from data_preparation and use the get_data()."
   ]
  },
  {
   "cell_type": "code",
   "execution_count": 3,
   "metadata": {},
   "outputs": [],
   "source": [
    "data_instance = data_preparation.DataPreparation()\n",
    "data = data_instance.get_data(repo, path, inputFeatures, inputWindowSize, begin, end)"
   ]
  },
  {
   "cell_type": "markdown",
   "metadata": {},
   "source": [
    "To use this data on our models, it must to be windowed and converted to a pytorch dataloader (```torch.DataLoader```) format. \n",
    "\n",
    "To do this, it is necessary use three data preparation methods. First generate the ```torch.Tensor``` with the ```data_tensor_generate()``` method. Second, split the data in train and test with ```train_test_split_by_percent()``` or ```train_test_split_by_days()``` methods. Finally, call the ```dataloader_create()``` method."
   ]
  },
  {
   "cell_type": "code",
   "execution_count": 5,
   "metadata": {},
   "outputs": [],
   "source": [
    "# Lenght you want to predict\n",
    "forward_len = 7\n",
    "data_instance.data_tensor_generate(forward_len)\n",
    "\n",
    "# Percent to train and test (70% train and 30% test)\n",
    "prct_to_train = 0.7\n",
    "data_instance.train_test_split_by_percent(prct_to_train)\n",
    "\n",
    "# Batch size to the dataloader\n",
    "batch_s = 8\n",
    "data_instance.dataloader_create(batch_s)"
   ]
  },
  {
   "cell_type": "markdown",
   "metadata": {},
   "source": [
    "# Using the Multivariable Independent Auto-Encoder (MIAE) model.\n",
    "\n",
    "For this model, there are three sub-models types denominated as Type#1, Type#2, and Type#3. The difference between the models is the weights adjustments phase during the training.\n",
    "\n",
    "<p>MIAE types.</p>\n",
    "<li>Type#1: Autoencoders and predictor layers have the weights adjustments at once.</li>\n",
    "<li>Type#2: The model trains the autoencoders separately, then the decoder's weights are fixed, so the predictor and encoder weights are adjusted and trained at once.</li>\n",
    "<li>Type#3: The model train the autoencoders separately then the entire autoencoder's weights are fixed, so the predictor is trained</li>\n",
    "\n",
    "To this tutorial we will use the Type#1. So, from the ```miae_type1.py``` file import the ```MIAE1()``` and ```RMSELoss()``` class and create a model Type#1 instance, passing the model hyperparameters infos."
   ]
  },
  {
   "cell_type": "code",
   "execution_count": 9,
   "metadata": {},
   "outputs": [],
   "source": [
    "from models.miae_type1 import MIAET1, RMSELoss\n",
    "\n",
    "model_hyperparameters = {\n",
    "    \"inseqlen\": 7,\n",
    "    \"outseqlen\": 7,\n",
    "    \"growth\": 4,\n",
    "    \"latent_space_dim\": 7,\n",
    "    \"n_features\": 1,\n",
    "    \"n_targets\": 1,\n",
    "    \"activation\": \"ReLU\",\n",
    "    \"epochs\": 200,\n",
    "    \"seed\": 51,\n",
    "    \"learning_rate\": 0.0005\n",
    "}\n",
    "\n",
    "type1_model = MIAET1(model_hyperparameters)"
   ]
  },
  {
   "cell_type": "markdown",
   "metadata": {},
   "source": [
    "So, call the ```train()``` function passing the data instance."
   ]
  },
  {
   "cell_type": "code",
   "execution_count": 10,
   "metadata": {},
   "outputs": [
    {
     "name": "stdout",
     "output_type": "stream",
     "text": [
      "Model Trained\n"
     ]
    }
   ],
   "source": [
    "type1_model.train(data_instance)\n",
    "print(\"Model Trained\")"
   ]
  },
  {
   "cell_type": "markdown",
   "metadata": {},
   "source": [
    "To predict and evaluate your model, call the ```predicting()```  and  ```score_calculator()``` method from the model instance, passing data in the test format. The data instance has the ```X_test``` variable to this."
   ]
  },
  {
   "cell_type": "code",
   "execution_count": 13,
   "metadata": {},
   "outputs": [
    {
     "name": "stdout",
     "output_type": "stream",
     "text": [
      "Score predict value:  29.74505377069684\n",
      "Score values for each predicted window:  [25.944843, 27.658028, 26.702877, 34.650883, 25.774408, 36.047752, 29.62749]\n"
     ]
    }
   ],
   "source": [
    "# Getting the data in the right format\n",
    "to_predict = data_instance.X_test\n",
    "\n",
    "# Predicting\n",
    "pred = type1_model.predicting(to_predict)\n",
    "\n",
    "# Getting the target from the data to evaluate\n",
    "ytrue = data_instance.Y_test\n",
    "\n",
    "# The predicted values\n",
    "yhat = pred\n",
    "\n",
    "# Evaluating\n",
    "score, scores = type1_model.score_calculator(ytrue, yhat)\n",
    "print(\"Score predict value: \", score)\n",
    "print(\"Score values for each predicted window: \", scores)"
   ]
  },
  {
   "cell_type": "markdown",
   "metadata": {},
   "source": [
    "To save your just trained model, call the ```save_model()``` method from model instance."
   ]
  },
  {
   "cell_type": "code",
   "execution_count": null,
   "metadata": {},
   "outputs": [],
   "source": [
    "type1_model.save_model()"
   ]
  }
 ],
 "metadata": {
  "kernelspec": {
   "display_name": "Python 3.8.11 ('ncovid-backend')",
   "language": "python",
   "name": "python3"
  },
  "language_info": {
   "codemirror_mode": {
    "name": "ipython",
    "version": 3
   },
   "file_extension": ".py",
   "mimetype": "text/x-python",
   "name": "python",
   "nbconvert_exporter": "python",
   "pygments_lexer": "ipython3",
   "version": "3.8.11"
  },
  "orig_nbformat": 4,
  "vscode": {
   "interpreter": {
    "hash": "b48a8372de07dcfb7270582fe52a873b16bfa1fa9f9ee7b27a1873baaed48200"
   }
  }
 },
 "nbformat": 4,
 "nbformat_minor": 2
}
